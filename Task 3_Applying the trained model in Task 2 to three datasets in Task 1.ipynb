{
 "cells": [
  {
   "cell_type": "code",
   "execution_count": 1,
   "id": "legendary-service",
   "metadata": {},
   "outputs": [],
   "source": [
    "import pandas as pd\n",
    "import warnings\n",
    "warnings.filterwarnings('ignore')\n",
    "from collections import Counter\n",
    "import re\n",
    "import random\n",
    "from pyvi import ViTokenizer"
   ]
  },
  {
   "cell_type": "code",
   "execution_count": 2,
   "id": "demonstrated-christian",
   "metadata": {},
   "outputs": [],
   "source": [
    "filename='UIT-VSMEC/train_nor_811.xlsx'\n",
    "data= pd.read_excel(filename,sheet_name='Sheet1')"
   ]
  },
  {
   "cell_type": "code",
   "execution_count": 3,
   "id": "inappropriate-madrid",
   "metadata": {},
   "outputs": [],
   "source": [
    "filename='UIT-VSMEC/valid_nor_811.xlsx'\n",
    "data1= pd.read_excel(filename,sheet_name='Sheet1')"
   ]
  },
  {
   "cell_type": "code",
   "execution_count": 4,
   "id": "amino-mediterranean",
   "metadata": {},
   "outputs": [],
   "source": [
    "data = data.append(data1, ignore_index=True, sort=False)"
   ]
  },
  {
   "cell_type": "code",
   "execution_count": 5,
   "id": "approximate-magazine",
   "metadata": {},
   "outputs": [
    {
     "data": {
      "text/html": [
       "<div>\n",
       "<style scoped>\n",
       "    .dataframe tbody tr th:only-of-type {\n",
       "        vertical-align: middle;\n",
       "    }\n",
       "\n",
       "    .dataframe tbody tr th {\n",
       "        vertical-align: top;\n",
       "    }\n",
       "\n",
       "    .dataframe thead th {\n",
       "        text-align: right;\n",
       "    }\n",
       "</style>\n",
       "<table border=\"1\" class=\"dataframe\">\n",
       "  <thead>\n",
       "    <tr style=\"text-align: right;\">\n",
       "      <th></th>\n",
       "      <th>Unnamed: 0</th>\n",
       "      <th>Emotion</th>\n",
       "      <th>Sentence</th>\n",
       "    </tr>\n",
       "  </thead>\n",
       "  <tbody>\n",
       "    <tr>\n",
       "      <th>0</th>\n",
       "      <td>188</td>\n",
       "      <td>Other</td>\n",
       "      <td>cho mình xin bài nhạc tên là gì với ạ</td>\n",
       "    </tr>\n",
       "    <tr>\n",
       "      <th>1</th>\n",
       "      <td>166</td>\n",
       "      <td>Disgust</td>\n",
       "      <td>cho đáng đời con quỷ . về nhà lôi con nhà mày ...</td>\n",
       "    </tr>\n",
       "    <tr>\n",
       "      <th>2</th>\n",
       "      <td>1345</td>\n",
       "      <td>Disgust</td>\n",
       "      <td>lo học đi . yêu đương lol gì hay lại thích học...</td>\n",
       "    </tr>\n",
       "    <tr>\n",
       "      <th>3</th>\n",
       "      <td>316</td>\n",
       "      <td>Enjoyment</td>\n",
       "      <td>uớc gì sau này về già vẫn có thể như cụ này :))</td>\n",
       "    </tr>\n",
       "    <tr>\n",
       "      <th>4</th>\n",
       "      <td>1225</td>\n",
       "      <td>Enjoyment</td>\n",
       "      <td>mỗi lần có video của con là cứ coi đi coi lại ...</td>\n",
       "    </tr>\n",
       "    <tr>\n",
       "      <th>5</th>\n",
       "      <td>1220</td>\n",
       "      <td>Anger</td>\n",
       "      <td>thằng kia sao mày bắt vợ với bồ tao dọn thế ki...</td>\n",
       "    </tr>\n",
       "    <tr>\n",
       "      <th>6</th>\n",
       "      <td>44</td>\n",
       "      <td>Other</td>\n",
       "      <td>một lí do trog muôn vàn lí do</td>\n",
       "    </tr>\n",
       "    <tr>\n",
       "      <th>7</th>\n",
       "      <td>1951</td>\n",
       "      <td>Surprise</td>\n",
       "      <td>thật hay đùa ác vậy . không thể tin được</td>\n",
       "    </tr>\n",
       "    <tr>\n",
       "      <th>8</th>\n",
       "      <td>1249</td>\n",
       "      <td>Anger</td>\n",
       "      <td>ko phải con mình , mà xem còn thấy đau như vậy...</td>\n",
       "    </tr>\n",
       "    <tr>\n",
       "      <th>9</th>\n",
       "      <td>1063</td>\n",
       "      <td>Sadness</td>\n",
       "      <td>per nghe đi rồi khóc 1 trận cho thoải mái . đừ...</td>\n",
       "    </tr>\n",
       "  </tbody>\n",
       "</table>\n",
       "</div>"
      ],
      "text/plain": [
       "   Unnamed: 0    Emotion                                           Sentence\n",
       "0         188      Other              cho mình xin bài nhạc tên là gì với ạ\n",
       "1         166    Disgust  cho đáng đời con quỷ . về nhà lôi con nhà mày ...\n",
       "2        1345    Disgust  lo học đi . yêu đương lol gì hay lại thích học...\n",
       "3         316  Enjoyment    uớc gì sau này về già vẫn có thể như cụ này :))\n",
       "4        1225  Enjoyment  mỗi lần có video của con là cứ coi đi coi lại ...\n",
       "5        1220      Anger  thằng kia sao mày bắt vợ với bồ tao dọn thế ki...\n",
       "6          44      Other                      một lí do trog muôn vàn lí do\n",
       "7        1951   Surprise           thật hay đùa ác vậy . không thể tin được\n",
       "8        1249      Anger  ko phải con mình , mà xem còn thấy đau như vậy...\n",
       "9        1063    Sadness  per nghe đi rồi khóc 1 trận cho thoải mái . đừ..."
      ]
     },
     "execution_count": 5,
     "metadata": {},
     "output_type": "execute_result"
    }
   ],
   "source": [
    "data[:10]"
   ]
  },
  {
   "cell_type": "code",
   "execution_count": 6,
   "id": "twelve-strip",
   "metadata": {},
   "outputs": [
    {
     "data": {
      "text/plain": [
       "<BarContainer object of 7 artists>"
      ]
     },
     "execution_count": 6,
     "metadata": {},
     "output_type": "execute_result"
    },
    {
     "data": {
      "image/png": "[encoded data removed]",
      "text/plain": [
       "<Figure size 432x288 with 1 Axes>"
      ]
     },
     "metadata": {
      "needs_background": "light"
     },
     "output_type": "display_data"
    }
   ],
   "source": [
    "from collections import Counter\n",
    "import matplotlib.pyplot as plt\n",
    "\n",
    "w=Counter(data['Emotion'])\n",
    "plt.bar(w.keys(), w.values())"
   ]
  },
  {
   "cell_type": "code",
   "execution_count": 7,
   "id": "progressive-armstrong",
   "metadata": {},
   "outputs": [],
   "source": [
    "data=data.drop('Unnamed: 0',axis=1)"
   ]
  },
  {
   "cell_type": "code",
   "execution_count": 8,
   "id": "elegant-christian",
   "metadata": {},
   "outputs": [],
   "source": [
    "data['Emotion'].replace({'Other':0,'Disgust':1,'Enjoyment':2,'Anger':3,'Surprise':4,'Sadness':5,'Fear':6},inplace=True)"
   ]
  },
  {
   "cell_type": "code",
   "execution_count": 9,
   "id": "taken-abortion",
   "metadata": {},
   "outputs": [],
   "source": [
    "enjo_sent=data.loc[data.Emotion==2,'Sentence'].tolist()\n",
    "other_sent=data.loc[data.Emotion==0,'Sentence'].tolist()\n",
    "other_len = len(enjo_sent) - len(other_sent)\n",
    "disg_sent=data.loc[data.Emotion==1,'Sentence'].tolist()\n",
    "disg_len = len(enjo_sent) - len(disg_sent)\n",
    "ange_sent=data.loc[data.Emotion==3,'Sentence'].tolist()\n",
    "ange_len = len(enjo_sent) - len(ange_sent)\n",
    "surp_sent=data.loc[data.Emotion==4,'Sentence'].tolist()\n",
    "surp_len = len(enjo_sent) - len(surp_sent)\n",
    "sadn_sent=data.loc[data.Emotion==5,'Sentence'].tolist()\n",
    "sadn_len = len(enjo_sent) - len(sadn_sent)\n",
    "fear_sent=data.loc[data.Emotion==6,'Sentence'].tolist()\n",
    "fear_len = len(enjo_sent) - len(fear_sent)"
   ]
  },
  {
   "cell_type": "code",
   "execution_count": 10,
   "id": "hybrid-preliminary",
   "metadata": {},
   "outputs": [],
   "source": [
    "def fill_up(data,length):\n",
    "    for i in range (0,length):\n",
    "        rand_sent=random.choice(data)\n",
    "        data.append(rand_sent)"
   ]
  },
  {
   "cell_type": "code",
   "execution_count": 11,
   "id": "federal-darkness",
   "metadata": {},
   "outputs": [],
   "source": [
    "fill_up(other_sent,other_len)\n",
    "fill_up(disg_sent,disg_len)\n",
    "fill_up(ange_sent,ange_len)\n",
    "fill_up(surp_sent,surp_len)\n",
    "fill_up(sadn_sent,sadn_len)\n",
    "fill_up(fear_sent,fear_len)"
   ]
  },
  {
   "cell_type": "code",
   "execution_count": 12,
   "id": "massive-knitting",
   "metadata": {},
   "outputs": [],
   "source": [
    "y=[]\n",
    "for i in range(0,7):\n",
    "    y.extend([i]*len(other_sent))\n"
   ]
  },
  {
   "cell_type": "code",
   "execution_count": 13,
   "id": "affecting-cookbook",
   "metadata": {},
   "outputs": [],
   "source": [
    "X=[]\n",
    "X.extend(other_sent)#0\n",
    "X.extend(disg_sent) #1\n",
    "X.extend(enjo_sent) #2\n",
    "X.extend(ange_sent) #3\n",
    "X.extend(surp_sent) #4\n",
    "X.extend(sadn_sent) #5\n",
    "X.extend(fear_sent) #6"
   ]
  },
  {
   "cell_type": "code",
   "execution_count": 14,
   "id": "severe-hierarchy",
   "metadata": {},
   "outputs": [
    {
     "data": {
      "text/plain": [
       "<BarContainer object of 7 artists>"
      ]
     },
     "execution_count": 14,
     "metadata": {},
     "output_type": "execute_result"
    },
    {
     "data": {
      "image/png": "[encoded data removed]",
      "text/plain": [
       "<Figure size 432x288 with 1 Axes>"
      ]
     },
     "metadata": {
      "needs_background": "light"
     },
     "output_type": "display_data"
    }
   ],
   "source": [
    "w=Counter(y)\n",
    "plt.bar(w.keys(), w.values())"
   ]
  },
  {
   "cell_type": "code",
   "execution_count": 15,
   "id": "incorrect-convertible",
   "metadata": {},
   "outputs": [
    {
     "name": "stdout",
     "output_type": "stream",
     "text": [
      "12397\n",
      "12397\n"
     ]
    }
   ],
   "source": [
    "print(len(X))\n",
    "print(len(y))"
   ]
  },
  {
   "cell_type": "code",
   "execution_count": 16,
   "id": "aboriginal-championship",
   "metadata": {},
   "outputs": [],
   "source": [
    "correct_mapping = {\n",
    "    'lol':'lồn',\n",
    "    'trog': 'trong',\n",
    "    'ko': 'không',\n",
    "    'hs': 'học sinh',\n",
    "    'ne': 'nè',\n",
    "    'chừ': 'giờ',\n",
    "    'oto': 'ô tô',\n",
    "    'mí': 'mới',\n",
    "    'share': 'chia sẻ',\n",
    "    'sgk': 'sách giáo khoa',\n",
    "    'cv':'công việc',\n",
    "    'kq':'kết quả',\n",
    "    'mj': 'mày',\n",
    "    'z':'vậy',\n",
    "    'rụnng': 'rụng',\n",
    "    'nhìu': 'nhiều',\n",
    "    'ah': 'à',\n",
    "    'k': 'không',\n",
    "    'v': 'vậy',\n",
    "    'àk': 'à',\n",
    "    'ngulon': 'ngu lồn',\n",
    "    'm': 'mày',\n",
    "    'ks': 'khách sạn',\n",
    "    'vkl':'vãi cả lồn',\n",
    "    'dume': 'đụ mẹ',\n",
    "    'fa': 'một mình',\n",
    "    'nyc': ' người yêu cũ',\n",
    "    'nge': 'nghe',\n",
    "    'zi': 'vậy',\n",
    "    't': 'tao',\n",
    "    'boss': 'sếp',\n",
    "    'of':'của',\n",
    "    'immm': 'im',\n",
    "    'volum':'âm lượng',\n",
    "    'ghêeeee':'ghê',\n",
    "    'crush':'người trong mộng',\n",
    "    'gane':'trò chơi',\n",
    "    'stt': 'trạng thái',\n",
    "    'fải': 'phải',\n",
    "    'vler':'vãi lồn',\n",
    "    'pr':'quảng cáo',\n",
    "    'ơiii':'ơi',\n",
    "    'q.tâm':'quan tâm',\n",
    "    'xxx': 'phim khiêu dâm',\n",
    "    'tr': 'trời',\n",
    "    'nta':'người ta',\n",
    "    'thậc': 'thật',\n",
    "    'chớt': 'chết',\n",
    "    'lsao' : 'làm sao',\n",
    "    'auto': 'tự động',\n",
    "    'luônnn': 'luôn',\n",
    "    'gym': \"thể hình\",\n",
    "    'tml': 'thằng mặt lồn',\n",
    "    'bằg':'bằng',\n",
    "    'klq':'không liên quan',\n",
    "    'ẻ': 'ỉa',\n",
    "    'disss':'địt',\n",
    "    'đmaaaa':'đụ má',\n",
    "    'yêuu':'yêu',\n",
    "    \"g\": 'gì',\n",
    "    'or': 'hoặc',\n",
    "    'yêuc': 'yêu',\n",
    "    'zo': 'vào',\n",
    "    'chờiiiii': 'trời',\n",
    "    'tôiii':'tôi',\n",
    "    's':'sao',\n",
    "    'r': 'rồi',\n",
    "    'thôiiii':'thôi',\n",
    "    'dth':\"dễ thương\",\n",
    "    'vớiiiiii' :'với',\n",
    "    'zoe': 'dơ',\n",
    "    'hlv':'huấn luyện viên',\n",
    "    'lozzz': 'lồn',\n",
    "    'đm':'đụ má',\n",
    "    'lònnnnnnn':'lồn',\n",
    "    'xanhhhh':'xanh',\n",
    "    'saolol':'xạo lồn',\n",
    "    'chaii':'chai',\n",
    "    'ak':'à',\n",
    "    'pk': 'biết',\n",
    "    'iêu': 'yêu',\n",
    "    'thíu': 'thiếu',\n",
    "    'caphe': 'cà phê',\n",
    "    'ukm': 'ừ',\n",
    "    'hp': 'hạnh phúc',\n",
    "    'tau':'tao',\n",
    "    'ac':'anh chị',\n",
    "    'q.q':'quần què',\n",
    "    'lào': 'nào',\n",
    "    'facebook':'mạng xã hội',\n",
    "    'vcllll':'vãi cả lồn',\n",
    "    'taooo': 'tao',\n",
    "    'taoooo': 'tao',\n",
    "    'video': 'đoạn phim',\n",
    "    'make': 'làm',\n",
    "    'in':'tại',\n",
    "    'copy': 'sao chép',\n",
    "    'sayy': 'nói',\n",
    "    'ng': 'người',\n",
    "    'goodbye': 'tạm biệt',\n",
    "    'bcs': 'bao cao su',\n",
    "    'chowi': 'chơi',\n",
    "    'dlm': 'đụ mẹ',\n",
    "    'cmnl': 'con mẹ nó luôn',\n",
    "    'cc': 'con cặc',\n",
    "    'showbiz':'giới giải trí',\n",
    "    'yep':'vâng',\n",
    "    'vl':'vãi lồn',\n",
    "    'vlonee':'vãi lồn',\n",
    "    'vclll':'vãi cả lồn',\n",
    "    'tg':'tưởng',\n",
    "    'cungc': 'cũng',\n",
    "    'đờii': 'đời',\n",
    "    'hmmmmmmm':'',\n",
    "    'bn': 'bạn'\n",
    "    \n",
    "}\n",
    "\n",
    "def check_acronyms(w):\n",
    "    if w in correct_mapping:\n",
    "        return correct_mapping[w]\n",
    "    else:\n",
    "        return w"
   ]
  },
  {
   "cell_type": "code",
   "execution_count": 17,
   "id": "registered-cleanup",
   "metadata": {},
   "outputs": [],
   "source": [
    "def preprocessing(sent):\n",
    "    sent=sent.lower()\n",
    "    sent=re.findall(r'\\b\\S+\\b',sent)\n",
    "    sent = list(map(check_acronyms,sent))\n",
    "    sent= ' '.join(sent)\n",
    "    new_sent=ViTokenizer.tokenize(sent)\n",
    "    return new_sent"
   ]
  },
  {
   "cell_type": "code",
   "execution_count": 18,
   "id": "numerous-whale",
   "metadata": {
    "scrolled": true
   },
   "outputs": [],
   "source": [
    "for i in range(len(X)):\n",
    "    X[i]=preprocessing(X[i])"
   ]
  },
  {
   "cell_type": "code",
   "execution_count": 19,
   "id": "medium-morrison",
   "metadata": {},
   "outputs": [
    {
     "data": {
      "text/plain": [
       "['cho mình xin bài nhạc tên là gì với ạ',\n",
       " 'một lí_do trong muôn_vàn lí_do',\n",
       " 'trời nắng_nóng thế này mình muốn bán_nước không biết thu_nhập có cao không ạ 3',\n",
       " 'bếp dầu nhiều nhà vẫn dùng',\n",
       " 'nếu thấy phụ_nữ quá phức_tạp để hiểu và chinh_phục thì đây là cách giải_quyết vấn_đề',\n",
       " 'thế con_trai là của ai cho',\n",
       " 'đây người_ta gọi là khi đại_thánh_nhập hoặc là múa_lân đầu năm',\n",
       " 'phải bồi_thường thiệt_hại bị trầy_xước thân tàu tiền sơn lại mấy toa tàu chắc cũng bộn',\n",
       " 'thế em ăn cơm chưa',\n",
       " 'thu trăm tỷ phạt 5tr lại qua tỉnh khác hành_nghề ha_ha']"
      ]
     },
     "execution_count": 19,
     "metadata": {},
     "output_type": "execute_result"
    }
   ],
   "source": [
    "X[:10]"
   ]
  },
  {
   "cell_type": "code",
   "execution_count": 20,
   "id": "southern-papua",
   "metadata": {},
   "outputs": [],
   "source": [
    "def bi_gram(sent):\n",
    "    sent=sent.split()\n",
    "    dicti={}\n",
    "    count=1\n",
    "    for i in range(len(sent)):\n",
    "        if sent[i] not in dicti:\n",
    "            dicti[sent[i]]=1\n",
    "        else:\n",
    "            dicti[sent[i]]+=1\n",
    "        if i != (len(sent)-1):\n",
    "            bi_word= sent[i] + ' ' +sent[i+1]\n",
    "            if len(bi_word)==1:\n",
    "                continue\n",
    "            else:\n",
    "                if bi_word not in dicti:\n",
    "                    dicti[bi_word]=1\n",
    "                else:\n",
    "                    dicti[bi_word]+=1\n",
    "    return dicti"
   ]
  },
  {
   "cell_type": "code",
   "execution_count": 21,
   "id": "experimental-trinidad",
   "metadata": {},
   "outputs": [],
   "source": [
    "X_dict=[]\n",
    "for i in X:\n",
    "    X_dict.append(bi_gram(i))"
   ]
  },
  {
   "cell_type": "code",
   "execution_count": 22,
   "id": "closing-edgar",
   "metadata": {},
   "outputs": [
    {
     "data": {
      "text/plain": [
       "{'một': 1,\n",
       " 'một lí_do': 1,\n",
       " 'lí_do': 2,\n",
       " 'lí_do trong': 1,\n",
       " 'trong': 1,\n",
       " 'trong muôn_vàn': 1,\n",
       " 'muôn_vàn': 1,\n",
       " 'muôn_vàn lí_do': 1}"
      ]
     },
     "execution_count": 22,
     "metadata": {},
     "output_type": "execute_result"
    }
   ],
   "source": [
    "X_dict[1]"
   ]
  },
  {
   "cell_type": "code",
   "execution_count": 23,
   "id": "threatened-knock",
   "metadata": {},
   "outputs": [],
   "source": [
    "from sklearn.feature_extraction import DictVectorizer\n",
    "vectorizer = DictVectorizer(sparse = True)\n",
    "\n",
    "x_train = vectorizer.fit_transform(X_dict)"
   ]
  },
  {
   "cell_type": "code",
   "execution_count": 24,
   "id": "minimal-bracelet",
   "metadata": {},
   "outputs": [],
   "source": [
    "filename='clip1(waslabel).xlsx'\n",
    "data_test= pd.read_excel(filename,sheet_name='Sheet1')\n",
    "filename='clip2(waslabel).xlsx'\n",
    "data_test2= pd.read_excel(filename,sheet_name='Sheet1')\n",
    "filename='clip3(waslabel).xlsx'\n",
    "data_test3= pd.read_excel(filename,sheet_name='Sheet1')"
   ]
  },
  {
   "cell_type": "code",
   "execution_count": 25,
   "id": "innovative-advancement",
   "metadata": {},
   "outputs": [],
   "source": [
    "data_test = data_test.append(data_test2, ignore_index=True, sort=False)\n",
    "data_test = data_test.append(data_test3, ignore_index=True, sort=False)"
   ]
  },
  {
   "cell_type": "code",
   "execution_count": 26,
   "id": "expressed-tonight",
   "metadata": {},
   "outputs": [
    {
     "data": {
      "text/html": [
       "<div>\n",
       "<style scoped>\n",
       "    .dataframe tbody tr th:only-of-type {\n",
       "        vertical-align: middle;\n",
       "    }\n",
       "\n",
       "    .dataframe tbody tr th {\n",
       "        vertical-align: top;\n",
       "    }\n",
       "\n",
       "    .dataframe thead th {\n",
       "        text-align: right;\n",
       "    }\n",
       "</style>\n",
       "<table border=\"1\" class=\"dataframe\">\n",
       "  <thead>\n",
       "    <tr style=\"text-align: right;\">\n",
       "      <th></th>\n",
       "      <th>comment</th>\n",
       "      <th>label</th>\n",
       "    </tr>\n",
       "  </thead>\n",
       "  <tbody>\n",
       "    <tr>\n",
       "      <th>0</th>\n",
       "      <td>Anh em nghĩ sao về chiếc Mac Air \"2020\" này? ....</td>\n",
       "      <td>0</td>\n",
       "    </tr>\n",
       "    <tr>\n",
       "      <th>1</th>\n",
       "      <td>Phế vật trong tầm giá</td>\n",
       "      <td>3</td>\n",
       "    </tr>\n",
       "    <tr>\n",
       "      <th>2</th>\n",
       "      <td>ủa hôm nay lô 08 à anh em :)). Quả áo chất lượ...</td>\n",
       "      <td>4</td>\n",
       "    </tr>\n",
       "    <tr>\n",
       "      <th>3</th>\n",
       "      <td>Nhớ hồi bên kênh linus tech tips cx phải làm 1...</td>\n",
       "      <td>1</td>\n",
       "    </tr>\n",
       "    <tr>\n",
       "      <th>4</th>\n",
       "      <td>'Nhiều tiền bạn sẽ mua mac air m1, thừa tiền t...</td>\n",
       "      <td>1</td>\n",
       "    </tr>\n",
       "    <tr>\n",
       "      <th>...</th>\n",
       "      <td>...</td>\n",
       "      <td>...</td>\n",
       "    </tr>\n",
       "    <tr>\n",
       "      <th>498</th>\n",
       "      <td>Cười đái ra máu</td>\n",
       "      <td>2</td>\n",
       "    </tr>\n",
       "    <tr>\n",
       "      <th>499</th>\n",
       "      <td>'Áo đỏ: Anh mua nhà Vinhome bao giờ chưa? Anh ...</td>\n",
       "      <td>0</td>\n",
       "    </tr>\n",
       "    <tr>\n",
       "      <th>500</th>\n",
       "      <td>Thằng này tưởng nó làm anh hùng như bao nhiêu ...</td>\n",
       "      <td>3</td>\n",
       "    </tr>\n",
       "    <tr>\n",
       "      <th>501</th>\n",
       "      <td>Sống ở bển Mỹ NƯỚC VĂN MINH NHẤT THẾ GI...</td>\n",
       "      <td>1</td>\n",
       "    </tr>\n",
       "    <tr>\n",
       "      <th>502</th>\n",
       "      <td>Đây văn hóa bọn nam kỳ theo mỹ mang về tô...</td>\n",
       "      <td>0</td>\n",
       "    </tr>\n",
       "  </tbody>\n",
       "</table>\n",
       "<p>503 rows × 2 columns</p>\n",
       "</div>"
      ],
      "text/plain": [
       "                                               comment  label\n",
       "0    Anh em nghĩ sao về chiếc Mac Air \"2020\" này? ....      0\n",
       "1                                Phế vật trong tầm giá      3\n",
       "2    ủa hôm nay lô 08 à anh em :)). Quả áo chất lượ...      4\n",
       "3    Nhớ hồi bên kênh linus tech tips cx phải làm 1...      1\n",
       "4    'Nhiều tiền bạn sẽ mua mac air m1, thừa tiền t...      1\n",
       "..                                                 ...    ...\n",
       "498                                    Cười đái ra máu      2\n",
       "499  'Áo đỏ: Anh mua nhà Vinhome bao giờ chưa? Anh ...      0\n",
       "500  Thằng này tưởng nó làm anh hùng như bao nhiêu ...      3\n",
       "501  Sống ở bển Mỹ NƯỚC VĂN MINH NHẤT THẾ GI...      1\n",
       "502  Đây văn hóa bọn nam kỳ theo mỹ mang về tô...      0\n",
       "\n",
       "[503 rows x 2 columns]"
      ]
     },
     "execution_count": 26,
     "metadata": {},
     "output_type": "execute_result"
    }
   ],
   "source": [
    "data_test"
   ]
  },
  {
   "cell_type": "code",
   "execution_count": 27,
   "id": "divine-asset",
   "metadata": {},
   "outputs": [],
   "source": [
    "X_test_dict=[]\n",
    "y_test=data_test.label\n",
    "data_test['clean_sentence']=''\n",
    "for i in range (0,len(data_test['comment'])):\n",
    "    data_test['clean_sentence'][i]=preprocessing(data_test['comment'][i])\n",
    "for i in data_test['clean_sentence']:\n",
    "    X_test_dict.append(bi_gram(i))\n",
    "x_test = vectorizer.transform(X_test_dict)\n"
   ]
  },
  {
   "cell_type": "code",
   "execution_count": 28,
   "id": "concerned-gardening",
   "metadata": {
    "scrolled": true
   },
   "outputs": [
    {
     "name": "stdout",
     "output_type": "stream",
     "text": [
      "              precision    recall  f1-score   support\n",
      "\n",
      "           0       0.43      0.44      0.43       168\n",
      "           1       0.29      0.44      0.35        64\n",
      "           2       0.54      0.66      0.60       139\n",
      "           3       0.75      0.03      0.06       102\n",
      "           4       0.27      0.35      0.31        17\n",
      "           5       0.17      0.46      0.25        13\n",
      "           6       0.00      0.00      0.00         0\n",
      "\n",
      "    accuracy                           0.42       503\n",
      "   macro avg       0.35      0.34      0.28       503\n",
      "weighted avg       0.49      0.42      0.38       503\n",
      "\n"
     ]
    }
   ],
   "source": [
    "from sklearn import svm\n",
    "from sklearn import metrics\n",
    "\n",
    "svc = svm.SVC()\n",
    "model=svc.fit(x_train,y)\n",
    "y_pred = model.predict(x_test)\n",
    "acc_svc=metrics.accuracy_score(y_test, y_pred)\n",
    "print(metrics.classification_report(y_test,y_pred))"
   ]
  },
  {
   "cell_type": "code",
   "execution_count": 29,
   "id": "developing-recycling",
   "metadata": {},
   "outputs": [
    {
     "name": "stdout",
     "output_type": "stream",
     "text": [
      "              precision    recall  f1-score   support\n",
      "\n",
      "           0       0.44      0.32      0.37       168\n",
      "           1       0.19      0.27      0.22        64\n",
      "           2       0.50      0.64      0.56       139\n",
      "           3       0.68      0.13      0.21       102\n",
      "           4       0.28      0.47      0.35        17\n",
      "           5       0.15      0.62      0.24        13\n",
      "           6       0.00      0.00      0.00         0\n",
      "\n",
      "    accuracy                           0.38       503\n",
      "   macro avg       0.32      0.35      0.28       503\n",
      "weighted avg       0.46      0.38      0.37       503\n",
      "\n"
     ]
    }
   ],
   "source": [
    "from sklearn.svm import LinearSVC\n",
    "lsvc = LinearSVC()\n",
    "\n",
    "model=lsvc.fit(x_train,y)\n",
    "y_pred = model.predict(x_test)\n",
    "acc_linearsvc=metrics.accuracy_score(y_test, y_pred)\n",
    "print(metrics.classification_report(y_test,y_pred))"
   ]
  },
  {
   "cell_type": "code",
   "execution_count": 30,
   "id": "disciplinary-refrigerator",
   "metadata": {},
   "outputs": [
    {
     "name": "stdout",
     "output_type": "stream",
     "text": [
      "              precision    recall  f1-score   support\n",
      "\n",
      "           0       0.38      0.29      0.33       168\n",
      "           1       0.24      0.27      0.25        64\n",
      "           2       0.45      0.55      0.50       139\n",
      "           3       0.43      0.03      0.06       102\n",
      "           4       0.17      0.18      0.17        17\n",
      "           5       0.07      0.54      0.12        13\n",
      "           6       0.00      0.00      0.00         0\n",
      "\n",
      "    accuracy                           0.31       503\n",
      "   macro avg       0.25      0.27      0.20       503\n",
      "weighted avg       0.38      0.31      0.30       503\n",
      "\n"
     ]
    }
   ],
   "source": [
    "from sklearn.ensemble import RandomForestClassifier\n",
    "rf = RandomForestClassifier()\n",
    "\n",
    "model=rf.fit(x_train,y)\n",
    "y_pred = model.predict(x_test)\n",
    "acc_rf=metrics.accuracy_score(y_test, y_pred)\n",
    "print(metrics.classification_report(y_test,y_pred))"
   ]
  },
  {
   "cell_type": "code",
   "execution_count": 31,
   "id": "sticky-naples",
   "metadata": {},
   "outputs": [
    {
     "data": {
      "text/plain": [
       "<BarContainer object of 3 artists>"
      ]
     },
     "execution_count": 31,
     "metadata": {},
     "output_type": "execute_result"
    },
    {
     "data": {
      "image/png": "[encoded data removed]",
      "text/plain": [
       "<Figure size 432x288 with 1 Axes>"
      ]
     },
     "metadata": {
      "needs_background": "light"
     },
     "output_type": "display_data"
    }
   ],
   "source": [
    "Acc={'SVC':acc_svc,'LinearSVC':acc_linearsvc,'RandomForest':acc_rf}\n",
    "plt.bar(Acc.keys(), Acc.values())"
   ]
  },
  {
   "cell_type": "code",
   "execution_count": null,
   "id": "fatty-gibson",
   "metadata": {},
   "outputs": [],
   "source": []
  }
 ],
 "metadata": {
  "kernelspec": {
   "display_name": "Python 3",
   "language": "python",
   "name": "python3"
  },
  "language_info": {
   "codemirror_mode": {
    "name": "ipython",
    "version": 3
   },
   "file_extension": ".py",
   "mimetype": "text/x-python",
   "name": "python",
   "nbconvert_exporter": "python",
   "pygments_lexer": "ipython3",
   "version": "3.8.2rc2"
  }
 },
 "nbformat": 4,
 "nbformat_minor": 5
}
